{
 "cells": [
  {
   "cell_type": "markdown",
   "id": "e85d2c4b",
   "metadata": {},
   "source": [
    "<div class=\"alert alert-danger\" role=\"alert\">\n",
    "    <span style=\"font-size:20px\">&#9888;</span> <span style=\"font-size:16px\">This is a read-only notebook! If you want to make and save changes, save a copy by clicking on <b>File</b> &#8594; <b>Save a copy</b>. If this is already a copy, you can delete this cell.</span>\n",
    "</div>"
   ]
  },
  {
   "cell_type": "markdown",
   "id": "a5d8a3db",
   "metadata": {},
   "source": [
    "# Exporting data to an existing Excel file / template"
   ]
  },
  {
   "cell_type": "markdown",
   "id": "6dc1efb5",
   "metadata": {},
   "source": [
    "This template illustrates how to export data into specific cells within an existing Excel file. That Excel file can contain formulas, which makes this great for updating data in an existing Excel model or generating many similar files."
   ]
  },
  {
   "cell_type": "markdown",
   "id": "3d7884d4",
   "metadata": {},
   "source": [
    "**Input and output format**"
   ]
  },
  {
   "cell_type": "markdown",
   "id": "4cac9c46",
   "metadata": {},
   "source": [
    "<table>\n",
    "    <tr>\n",
    "        <td> <img src=\"excel_templates/images-existing-excel-example/input_template.PNG\" alt=\"Drawing\" style=\"width: 400px;\"/> </td>\n",
    "        <td> <img src=\"excel_templates/images-existing-excel-example/output_template.PNG\" alt=\"Drawing\" style=\"width: 400px;\"/> </td>\n",
    "    </tr>\n",
    "    <tr>\n",
    "        <th style=\"text-align: center\">Input template</th>\n",
    "        <th style=\"text-align: center\">Output</th>\n",
    "</table>"
   ]
  },
  {
   "cell_type": "markdown",
   "id": "45d96f52",
   "metadata": {},
   "source": [
    "## Start by loading the required libraries"
   ]
  },
  {
   "cell_type": "code",
   "execution_count": 1,
   "id": "21e17907",
   "metadata": {},
   "outputs": [],
   "source": [
    "# Developer tools (automatically reloads Python code changes made to utilities) \n",
    "%load_ext autoreload\n",
    "%autoreload 2"
   ]
  },
  {
   "cell_type": "code",
   "execution_count": 2,
   "id": "2d923508",
   "metadata": {},
   "outputs": [],
   "source": [
    "import pandas as pd\n",
    "import sys\n",
    "sys.path.insert(0, \"../../utilities\")\n",
    "\n",
    "from excel_export.module_write_excel import ExcelWriter"
   ]
  },
  {
   "cell_type": "markdown",
   "id": "364b51b7",
   "metadata": {},
   "source": [
    "# Illustration of how to exporting data to the Excel"
   ]
  },
  {
   "cell_type": "markdown",
   "id": "47a1ce2c",
   "metadata": {},
   "source": [
    "We will be using the \"existing-excel-example.xlsx\" that is in the \"notebook\\excel_export\\excel_templates\". We recommend opening that Excel to view it before using this code for the first time.\n",
    "\n",
    "This code will insert data into specific locations of that Excel and saved as a new Excel file into the Output folder. "
   ]
  },
  {
   "cell_type": "markdown",
   "id": "ea896210",
   "metadata": {},
   "source": [
    "### Select template, and names / paths of template and outputs"
   ]
  },
  {
   "cell_type": "code",
   "execution_count": 27,
   "id": "b72eeaf5",
   "metadata": {},
   "outputs": [
    {
     "name": "stdout",
     "output_type": "stream",
     "text": [
      "- - - EXCEL - A previous version of the template has been deleted\n",
      "\n"
     ]
    }
   ],
   "source": [
    "run_name = \"20230212 Gryphon Testing\"  # Give the file an ID\n",
    "\n",
    "config_Excel = {\n",
    "    \"ID\": run_name,\n",
    "    \"template_folder\" : \"excel_templates\",  # Folder containing the excel template (relative to this notebook). Typically this would be project specific and stored in your project folder\n",
    "    \"template_file\" : \"existing-excel-example.xlsx\",  # Name of the template\n",
    "    \"output_folder\" : 'sample_output',  # Output folder relative to the project folder\n",
    "    \"output_file\" : f'standard-excel-output_{run_name}.xlsx'   # Name of the Excel file to be generates\n",
    "}\n",
    "\n",
    "# Instantiate Excel Writer with configurations\n",
    "ExcelWriter_obj = ExcelWriter(config_Excel)\n",
    "\n",
    "# Create output folder and remove existing output with same name\n",
    "ExcelWriter_obj.prepare_output_path()"
   ]
  },
  {
   "cell_type": "markdown",
   "id": "c37a8f74",
   "metadata": {},
   "source": [
    "## Create a dictionary to be written to B4:C6\n",
    "\n",
    "Here B4:C4 will contain: \"Item\",\"Value\", and each row will be each key-value pair of the dictionary. We specify the tab name and the top left most cell where data will be inserted into. \n",
    "\n",
    "Any format in the Excel will be preserved."
   ]
  },
  {
   "cell_type": "code",
   "execution_count": 28,
   "id": "3dbe4d1a",
   "metadata": {},
   "outputs": [],
   "source": [
    "output_dictionary = {\"Name\":\"Example data\", \"Date\":pd.to_datetime(\"2023-02-12\")}\n",
    "\n",
    "ExcelWriter_obj.append_dict_to_write(output_dictionary, worksheet_name = \"data\", from_cell = \"B4\")"
   ]
  },
  {
   "cell_type": "markdown",
   "id": "8bfe60ca",
   "metadata": {},
   "source": [
    "## Create a pandas dataframe to be written to G4:K90\n",
    "\n"
   ]
  },
  {
   "cell_type": "code",
   "execution_count": 29,
   "id": "625e62bf",
   "metadata": {},
   "outputs": [
    {
     "data": {
      "text/html": [
       "<div>\n",
       "<style scoped>\n",
       "    .dataframe tbody tr th:only-of-type {\n",
       "        vertical-align: middle;\n",
       "    }\n",
       "\n",
       "    .dataframe tbody tr th {\n",
       "        vertical-align: top;\n",
       "    }\n",
       "\n",
       "    .dataframe thead th {\n",
       "        text-align: right;\n",
       "    }\n",
       "</style>\n",
       "<table border=\"1\" class=\"dataframe\">\n",
       "  <thead>\n",
       "    <tr style=\"text-align: right;\">\n",
       "      <th></th>\n",
       "      <th>A</th>\n",
       "      <th>B</th>\n",
       "      <th>C</th>\n",
       "      <th>D</th>\n",
       "      <th>E</th>\n",
       "    </tr>\n",
       "  </thead>\n",
       "  <tbody>\n",
       "    <tr>\n",
       "      <th>0</th>\n",
       "      <td>0.990898</td>\n",
       "      <td>0.681909</td>\n",
       "      <td>0.048757</td>\n",
       "      <td>0.095885</td>\n",
       "      <td>0.598110</td>\n",
       "    </tr>\n",
       "    <tr>\n",
       "      <th>1</th>\n",
       "      <td>0.873625</td>\n",
       "      <td>0.243985</td>\n",
       "      <td>0.772942</td>\n",
       "      <td>0.313699</td>\n",
       "      <td>0.981793</td>\n",
       "    </tr>\n",
       "    <tr>\n",
       "      <th>2</th>\n",
       "      <td>0.201808</td>\n",
       "      <td>0.157269</td>\n",
       "      <td>0.724535</td>\n",
       "      <td>0.370373</td>\n",
       "      <td>0.099149</td>\n",
       "    </tr>\n",
       "    <tr>\n",
       "      <th>3</th>\n",
       "      <td>0.726931</td>\n",
       "      <td>0.473470</td>\n",
       "      <td>0.971251</td>\n",
       "      <td>0.725775</td>\n",
       "      <td>0.175172</td>\n",
       "    </tr>\n",
       "    <tr>\n",
       "      <th>4</th>\n",
       "      <td>0.458445</td>\n",
       "      <td>0.207789</td>\n",
       "      <td>0.871420</td>\n",
       "      <td>0.998624</td>\n",
       "      <td>0.941701</td>\n",
       "    </tr>\n",
       "  </tbody>\n",
       "</table>\n",
       "</div>"
      ],
      "text/plain": [
       "          A         B         C         D         E\n",
       "0  0.990898  0.681909  0.048757  0.095885  0.598110\n",
       "1  0.873625  0.243985  0.772942  0.313699  0.981793\n",
       "2  0.201808  0.157269  0.724535  0.370373  0.099149\n",
       "3  0.726931  0.473470  0.971251  0.725775  0.175172\n",
       "4  0.458445  0.207789  0.871420  0.998624  0.941701"
      ]
     },
     "execution_count": 29,
     "metadata": {},
     "output_type": "execute_result"
    }
   ],
   "source": [
    "dataset = pd.read_csv(\"sample_data/example_data.csv\")\n",
    "dataset.head()"
   ]
  },
  {
   "cell_type": "code",
   "execution_count": 30,
   "id": "cc1d0e54",
   "metadata": {},
   "outputs": [],
   "source": [
    "ExcelWriter_obj.append_df_to_write( df = dataset, worksheet_name = \"data\", from_cell = \"G4\")"
   ]
  },
  {
   "cell_type": "markdown",
   "id": "abee17aa",
   "metadata": {},
   "source": [
    "# Save the Excel file\n",
    "\n",
    "The file will be saved to \"target_folder\"/\"template_file_out\""
   ]
  },
  {
   "cell_type": "code",
   "execution_count": 31,
   "id": "b20256ec",
   "metadata": {},
   "outputs": [
    {
     "name": "stdout",
     "output_type": "stream",
     "text": [
      "\n",
      "- - - 15:35:51 - - - EXCEL - Writing the Excel file - Attempt 0 out of 20 - - -\n",
      "- - - - - - Using the template excel_templates\\existing-excel-example.xlsx\n",
      "- - - 15:35:55 - - - Sheet - data | Cell: B4\n",
      "- - - - - - Cell range: B4:C6\n",
      "- - - 15:35:56 - - - Sheet - data | Cell: G4\n",
      "- - - - - - Cell range: G4:K33\n"
     ]
    }
   ],
   "source": [
    "# Write Excel file\n",
    "ExcelWriter_obj.write_Excel()"
   ]
  }
 ],
 "metadata": {
  "kernelspec": {
   "display_name": "Python 3 (ipykernel)",
   "language": "python",
   "name": "python3"
  },
  "language_info": {
   "codemirror_mode": {
    "name": "ipython",
    "version": 3
   },
   "file_extension": ".py",
   "mimetype": "text/x-python",
   "name": "python",
   "nbconvert_exporter": "python",
   "pygments_lexer": "ipython3",
   "version": "3.9.5"
  }
 },
 "nbformat": 4,
 "nbformat_minor": 5
}
